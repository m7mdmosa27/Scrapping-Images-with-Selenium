{
 "cells": [
  {
   "cell_type": "code",
   "execution_count": 25,
   "metadata": {},
   "outputs": [],
   "source": [
    "import requests\n",
    "from selenium import webdriver\n",
    "from selenium.webdriver.common.by import By\n",
    "from selenium.webdriver.chrome.service import Service\n",
    "import urllib\n",
    "import time"
   ]
  },
  {
   "cell_type": "code",
   "execution_count": 26,
   "metadata": {},
   "outputs": [
    {
     "name": "stderr",
     "output_type": "stream",
     "text": [
      "'apt-get' is not recognized as an internal or external command,\n",
      "operable program or batch file.\n",
      "'apt' is not recognized as an internal or external command,\n",
      "operable program or batch file.\n"
     ]
    }
   ],
   "source": [
    "!apt-get update \n",
    "!apt install chromium-chromedriver\n"
   ]
  },
  {
   "cell_type": "code",
   "execution_count": 27,
   "metadata": {},
   "outputs": [
    {
     "name": "stderr",
     "output_type": "stream",
     "text": [
      "  % Total    % Received % Xferd  Average Speed   Time    Time     Time  Current\n",
      "                                 Dload  Upload   Total   Spent    Left  Speed\n",
      "\n",
      "  0     0    0     0    0     0      0      0 --:--:-- --:--:-- --:--:--     0\n",
      "  2 8045k    2  191k    0     0   261k      0  0:00:30 --:--:--  0:00:30  261k\n",
      " 47 8045k   47 3792k    0     0  1923k      0  0:00:04  0:00:01  0:00:03 1923k\n",
      " 78 8045k   78 6336k    0     0  2319k      0  0:00:03  0:00:02  0:00:01 2320k\n",
      "100 8045k  100 8045k    0     0  2521k      0  0:00:03  0:00:03 --:--:-- 2522k\n"
     ]
    }
   ],
   "source": [
    "!curl -O https://edgedl.me.gvt1.com/edgedl/chrome/chrome-for-testing/117.0.5938.149/win64/chromedriver-win64.zip\n",
    "# !unzip chromedriver_win32.zip\n"
   ]
  },
  {
   "cell_type": "code",
   "execution_count": 28,
   "metadata": {},
   "outputs": [],
   "source": [
    "\n",
    "chrome_options = webdriver.ChromeOptions()\n",
    "service = Service(executable_path='./chromedriver-win64/chromedriver-win64/chromedriver.exe')\n",
    "chrome_options.add_argument('--headless')\n",
    "chrome_options.add_argument('--no-sandbox')\n",
    "chrome_options.add_argument('--disable-dev-shm-usage')\n",
    "driver = webdriver.Chrome(service=service,options=chrome_options)"
   ]
  },
  {
   "cell_type": "code",
   "execution_count": 68,
   "metadata": {},
   "outputs": [],
   "source": [
    "url = (\"https://www.google.com/search?q=Botrytis%20Blight%20of%20Roses%2C%20Grey%20mold%20dataset&tbm=isch&hl=en&tbs=rimg:CTLtRbdGwYjeYSTDILVg_12H-sgIRCgIIABAAOgQIABAAVXDtHD_1AAgDYAgDgAgA&rlz=1C1GCEA_enEG1038EG1038&sa=X&ved=0CBoQuIIBahcKEwjgqoSXwOiBAxUAAAAAHQAAAAAQBg&biw=2378&bih=1193\")"
   ]
  },
  {
   "cell_type": "code",
   "execution_count": 69,
   "metadata": {},
   "outputs": [],
   "source": [
    "# url = ('https://www.istockphoto.com/search/2/image-film?family=creative&phrase=Botrytis%20Blight%20of%20Roses%2C%20Grey%20mold')"
   ]
  },
  {
   "cell_type": "code",
   "execution_count": 83,
   "metadata": {},
   "outputs": [],
   "source": [
    "driver.get(url)"
   ]
  },
  {
   "cell_type": "code",
   "execution_count": 84,
   "metadata": {},
   "outputs": [],
   "source": [
    "driver.execute_script(\"window.scrollTo(0,document.body.scrollHeight);\")\n",
    "time.sleep(5)"
   ]
  },
  {
   "cell_type": "code",
   "execution_count": 85,
   "metadata": {},
   "outputs": [],
   "source": [
    "# imgResults = driver.find_elements(By.XPATH,\"//img[contains(@class,'Q4LuWd')]\")\n",
    "imgResults = driver.find_elements(By.XPATH,\"//img\")\n",
    "\n",
    "src = []\n",
    "for img in imgResults:\n",
    "    src.append(img.get_attribute('src'))"
   ]
  },
  {
   "cell_type": "code",
   "execution_count": 86,
   "metadata": {},
   "outputs": [],
   "source": [
    "for i in range(len(src)):    \n",
    "    try:\n",
    "        urllib.request.urlretrieve(str(src[i]),\"sample_data/pets{}.jpg\".format(i))\n",
    "    except ValueError :\n",
    "        continue\n"
   ]
  },
  {
   "cell_type": "code",
   "execution_count": null,
   "metadata": {},
   "outputs": [],
   "source": []
  }
 ],
 "metadata": {
  "kernelspec": {
   "display_name": "base",
   "language": "python",
   "name": "python3"
  },
  "language_info": {
   "codemirror_mode": {
    "name": "ipython",
    "version": 3
   },
   "file_extension": ".py",
   "mimetype": "text/x-python",
   "name": "python",
   "nbconvert_exporter": "python",
   "pygments_lexer": "ipython3",
   "version": "3.11.4"
  }
 },
 "nbformat": 4,
 "nbformat_minor": 2
}
